{
 "cells": [
  {
   "cell_type": "code",
   "execution_count": 1,
   "metadata": {},
   "outputs": [],
   "source": [
    "import os\n",
    "import boto3\n",
    "import re\n",
    "import json\n",
    "import sagemaker\n",
    "import numpy as np\n",
    "from sagemaker import get_execution_role\n",
    "import pandas as pd\n",
    "from io import BytesIO\n",
    "from zipfile import ZipFile\n",
    "import xgboost as xgb\n",
    "from sklearn.model_selection import train_test_split\n",
    "from hyperopt import STATUS_OK, fmin, tpe, Trials, hp\n",
    "from hyperopt.early_stop import no_progress_loss\n"
   ]
  },
  {
   "cell_type": "code",
   "execution_count": 2,
   "metadata": {},
   "outputs": [],
   "source": [
    "test_split = 0.2\n",
    "random_state = 42\n",
    "number_of_trees = 1000\n",
    "model_file_name = \"local-xgboost-model\"\n",
    "best_param = {\n",
    "    'alpha': 0,\n",
    "    'n_estimators': 1000,\n",
    "    'booster': 'gbtree',\n",
    "    'silent': 1,\n",
    "    'nthread': -1,\n",
    "    \"colsample_bytree\": 0.9,\n",
    "    \"gamma\": 0.7000000000000001,\n",
    "    \"learning_rate\": 0.6000000000000001,\n",
    "    \"max_depth\": 4,\n",
    "    \"reg_lambda\": 2,\n",
    "    \"subsample\": 0.5,\n",
    "    'objective': 'reg:pseudohubererror',\n",
    "    'eval_metric': 'mphe'}"
   ]
  },
  {
   "cell_type": "code",
   "execution_count": 5,
   "metadata": {},
   "outputs": [
    {
     "name": "stdout",
     "output_type": "stream",
     "text": [
      "eu-central-1\n"
     ]
    },
    {
     "name": "stderr",
     "output_type": "stream",
     "text": [
      "Couldn't call 'get_role' to get Role ARN from role name ashrith-iam to get Role path.\n"
     ]
    },
    {
     "name": "stdout",
     "output_type": "stream",
     "text": [
      "arn:aws:iam::444133344330:role/service-role/SageMaker-MLops\n",
      "sagemaker-eu-central-1-444133344330\n"
     ]
    }
   ],
   "source": [
    "region = boto3.Session().region_name\n",
    "print(region)\n",
    "try:\n",
    "    role = sagemaker.get_execution_role()\n",
    "except ValueError:\n",
    "    iam = boto3.client('iam')\n",
    "    role = iam.get_role(RoleName='SageMaker-MLops')['Role']['Arn']\n",
    "print(role)\n",
    "bucket = sagemaker.Session().default_bucket()\n",
    "print(bucket)"
   ]
  },
  {
   "cell_type": "code",
   "execution_count": 6,
   "metadata": {},
   "outputs": [],
   "source": [
    "remove_first_col = (\n",
    "    lambda df: df[[df.columns[i] for i in range(len(df.columns)) if i != 0]]\n",
    "    .astype(str)\n",
    "    .astype(int)\n",
    ")\n",
    "loss = lambda y, y_pred: np.sum(abs(np.subtract(np.array(y), np.array(y_pred))))"
   ]
  },
  {
   "cell_type": "code",
   "execution_count": 7,
   "metadata": {},
   "outputs": [],
   "source": [
    "prefix = \"sagemaker/DEMO-xgboost-byo\"\n",
    "bucket_path = \"https://s3-{}.amazonaws.com/{}\".format(region, bucket)"
   ]
  },
  {
   "cell_type": "code",
   "execution_count": 8,
   "metadata": {},
   "outputs": [
    {
     "name": "stdout",
     "output_type": "stream",
     "text": [
      "     0    1    2    3    4    5    6    7    8    9   ...   70   71   72   73  \\\n",
      "0  13.0  0.0  0.0  0.0  0.0  0.0  0.0  0.0  0.0  0.0  ...  0.0  0.0  0.0  0.0   \n",
      "1  12.0  0.0  0.0  0.0  0.0  0.0  0.0  0.0  0.0  0.0  ...  0.0  0.0  0.0  0.0   \n",
      "2  14.0  0.0  0.0  0.0  0.0  0.0  0.0  0.0  0.0  0.0  ...  0.0  0.0  0.0  1.0   \n",
      "3  12.0  0.0  0.0  0.0  0.0  0.0  0.0  0.0  0.0  0.0  ...  0.0  0.0  0.0  0.0   \n",
      "4  12.0  0.0  0.0  0.0  0.0  0.0  0.0  0.0  0.0  0.0  ...  0.0  0.0  0.0  0.0   \n",
      "\n",
      "    74   75   76   77   78   79  \n",
      "0  0.0  0.0  0.0  0.0  0.0  0.0  \n",
      "1  0.0  0.0  0.0  0.0  0.0  0.0  \n",
      "2  0.0  0.0  0.0  0.0  0.0  0.0  \n",
      "3  0.0  0.0  0.0  0.0  0.0  0.0  \n",
      "4  0.0  0.0  0.0  0.0  0.0  0.0  \n",
      "\n",
      "[5 rows x 80 columns]\n",
      "CPU times: user 45.6 ms, sys: 4.72 ms, total: 50.3 ms\n",
      "Wall time: 225 ms\n"
     ]
    },
    {
     "data": {
      "text/plain": [
       "(1000, 80)"
      ]
     },
     "execution_count": 8,
     "metadata": {},
     "output_type": "execute_result"
    }
   ],
   "source": [
    "%%time\n",
    "# Get the data from a public S3\n",
    "buf_x = (\n",
    "    boto3.client(\"s3\")\n",
    "    .get_object(\n",
    "        Bucket=bucket, Key=\"labels_x.zip\"\n",
    "    )[\"Body\"].read()\n",
    ")\n",
    "csv_file_key = 'labels_x/image_vector.csv'\n",
    "with ZipFile(BytesIO(buf_x)) as zipf:\n",
    "    csv_file = zipf.open(csv_file_key)\n",
    "    x = pd.read_csv(csv_file, sep=',', header=None)\n",
    "print(x.head())\n",
    "x.shape"
   ]
  },
  {
   "cell_type": "code",
   "execution_count": 9,
   "metadata": {},
   "outputs": [
    {
     "name": "stdout",
     "output_type": "stream",
     "text": [
      "['labels_y/frame_Giving_money_vid_900.csv', 'labels_y/frame_Giving_money_vid_34110.csv', 'labels_y/frame_Giving_money_vid_19260.csv', 'labels_y/frame_Giving_money_vid_38070.csv', 'labels_y/frame_Giving_money_vid_9360.csv', 'labels_y/frame_Giving_money_vid_13410.csv', 'labels_y/frame_Giving_money_vid_15030.csv', 'labels_y/frame_Giving_money_vid_14610.csv', 'labels_y/frame_Giving_money_vid_5430.csv', 'labels_y/frame_Giving_money_vid_17460.csv', 'labels_y/frame_Giving_money_vid_26880.csv', 'labels_y/frame_Giving_money_vid_16710.csv', 'labels_y/frame_Giving_money_vid_38610.csv', 'labels_y/frame_Giving_money_vid_14400.csv', 'labels_y/frame_Giving_money_vid_4500.csv', 'labels_y/frame_Giving_money_vid_28140.csv', 'labels_y/frame_Giving_money_vid_11880.csv', 'labels_y/frame_Giving_money_vid_16440.csv', 'labels_y/frame_Giving_money_vid_18840.csv', 'labels_y/frame_Giving_money_vid_11520.csv', 'labels_y/frame_Giving_money_vid_27480.csv', 'labels_y/frame_Giving_money_vid_38220.csv', 'labels_y/frame_Giving_money_vid_3660.csv', 'labels_y/frame_Giving_money_vid_24960.csv', 'labels_y/frame_Giving_money_vid_34590.csv', 'labels_y/frame_Giving_money_vid_31680.csv', 'labels_y/frame_Giving_money_vid_19980.csv', 'labels_y/frame_Giving_money_vid_1740.csv', 'labels_y/frame_Giving_money_vid_5160.csv', 'labels_y/frame_Giving_money_vid_4080.csv', 'labels_y/frame_Giving_money_vid_15120.csv', 'labels_y/frame_Giving_money_vid_18180.csv', 'labels_y/frame_Giving_money_vid_6450.csv', 'labels_y/frame_Giving_money_vid_19770.csv', 'labels_y/frame_Giving_money_vid_20880.csv', 'labels_y/frame_Giving_money_vid_26670.csv', 'labels_y/frame_Giving_money_vid_38490.csv', 'labels_y/frame_Giving_money_vid_28080.csv', 'labels_y/frame_Giving_money_vid_15390.csv', 'labels_y/frame_Giving_money_vid_9420.csv', 'labels_y/frame_Giving_money_vid_4110.csv', 'labels_y/frame_Giving_money_vid_1680.csv', 'labels_y/frame_Giving_money_vid_1020.csv', 'labels_y/frame_Giving_money_vid_37830.csv', 'labels_y/frame_Giving_money_vid_4320.csv', 'labels_y/frame_Giving_money_vid_7770.csv', 'labels_y/frame_Giving_money_vid_1980.csv', 'labels_y/frame_Giving_money_vid_38640.csv', 'labels_y/frame_Giving_money_vid_1650.csv', 'labels_y/frame_Giving_money_vid_14100.csv', 'labels_y/frame_Giving_money_vid_27330.csv', 'labels_y/frame_Giving_money_vid_10740.csv', 'labels_y/frame_Giving_money_vid_25740.csv', 'labels_y/frame_Giving_money_vid_15510.csv', 'labels_y/frame_Giving_money_vid_15480.csv', 'labels_y/frame_Giving_money_vid_21240.csv', 'labels_y/frame_Giving_money_vid_20670.csv', 'labels_y/frame_Giving_money_vid_37710.csv', 'labels_y/frame_Giving_money_vid_6270.csv', 'labels_y/frame_Giving_money_vid_34440.csv', 'labels_y/frame_Giving_money_vid_20460.csv', 'labels_y/frame_Giving_money_vid_29400.csv', 'labels_y/frame_Giving_money_vid_18210.csv', 'labels_y/frame_Giving_money_vid_34620.csv', 'labels_y/frame_Giving_money_vid_37230.csv', 'labels_y/frame_Giving_money_vid_990.csv', 'labels_y/frame_Giving_money_vid_1500.csv', 'labels_y/frame_Giving_money_vid_3180.csv', 'labels_y/frame_Giving_money_vid_20430.csv', 'labels_y/frame_Giving_money_vid_29130.csv', 'labels_y/frame_Giving_money_vid_29340.csv', 'labels_y/frame_Giving_money_vid_36900.csv', 'labels_y/frame_Giving_money_vid_9090.csv', 'labels_y/frame_Giving_money_vid_24780.csv', 'labels_y/frame_Giving_money_vid_11340.csv', 'labels_y/frame_Giving_money_vid_2940.csv', 'labels_y/frame_Giving_money_vid_13230.csv', 'labels_y/frame_Giving_money_vid_22230.csv', 'labels_y/frame_Giving_money_vid_37740.csv', 'labels_y/frame_Giving_money_vid_35940.csv', 'labels_y/frame_Giving_money_vid_12510.csv', 'labels_y/frame_Giving_money_vid_23010.csv', 'labels_y/frame_Giving_money_vid_32730.csv', 'labels_y/frame_Giving_money_vid_27000.csv', 'labels_y/frame_Giving_money_vid_16320.csv', 'labels_y/frame_Giving_money_vid_5130.csv', 'labels_y/frame_Giving_money_vid_24660.csv', 'labels_y/frame_Giving_money_vid_5940.csv', 'labels_y/frame_Giving_money_vid_12000.csv', 'labels_y/frame_Giving_money_vid_28740.csv', 'labels_y/frame_Giving_money_vid_20400.csv', 'labels_y/frame_Giving_money_vid_17040.csv', 'labels_y/frame_Giving_money_vid_24990.csv', 'labels_y/frame_Giving_money_vid_17220.csv', 'labels_y/frame_Giving_money_vid_8190.csv', 'labels_y/frame_Giving_money_vid_7740.csv', 'labels_y/frame_Giving_money_vid_17160.csv', 'labels_y/frame_Giving_money_vid_12630.csv', 'labels_y/frame_Giving_money_vid_3210.csv', 'labels_y/frame_Giving_money_vid_7110.csv', 'labels_y/frame_Giving_money_vid_3300.csv', 'labels_y/frame_Giving_money_vid_25350.csv', 'labels_y/frame_Giving_money_vid_12990.csv', 'labels_y/frame_Giving_money_vid_4410.csv', 'labels_y/frame_Giving_money_vid_31650.csv', 'labels_y/frame_Giving_money_vid_3150.csv', 'labels_y/frame_Giving_money_vid_32820.csv', 'labels_y/frame_Giving_money_vid_15420.csv', 'labels_y/frame_Giving_money_vid_13560.csv', 'labels_y/frame_Giving_money_vid_34290.csv', 'labels_y/frame_Giving_money_vid_28560.csv', 'labels_y/frame_Giving_money_vid_7500.csv', 'labels_y/frame_Giving_money_vid_25410.csv', 'labels_y/frame_Giving_money_vid_1950.csv', 'labels_y/frame_Giving_money_vid_36960.csv', 'labels_y/frame_Giving_money_vid_21960.csv', 'labels_y/frame_Giving_money_vid_28440.csv', 'labels_y/frame_Giving_money_vid_38100.csv', 'labels_y/frame_Giving_money_vid_25110.csv', 'labels_y/frame_Giving_money_vid_6390.csv', 'labels_y/frame_Giving_money_vid_5010.csv', 'labels_y/frame_Giving_money_vid_6630.csv', 'labels_y/frame_Giving_money_vid_540.csv', 'labels_y/frame_Giving_money_vid_19380.csv', 'labels_y/frame_Giving_money_vid_28590.csv', 'labels_y/frame_Giving_money_vid_15570.csv', 'labels_y/frame_Giving_money_vid_34980.csv', 'labels_y/frame_Giving_money_vid_9930.csv', 'labels_y/frame_Giving_money_vid_11580.csv', 'labels_y/frame_Giving_money_vid_25440.csv', 'labels_y/frame_Giving_money_vid_29190.csv', 'labels_y/frame_Giving_money_vid_7170.csv', 'labels_y/frame_Giving_money_vid_27630.csv', 'labels_y/frame_Giving_money_vid_510.csv', 'labels_y/frame_Giving_money_vid_25530.csv', 'labels_y/frame_Giving_money_vid_38160.csv', 'labels_y/frame_Giving_money_vid_11010.csv', 'labels_y/frame_Giving_money_vid_25470.csv', 'labels_y/frame_Giving_money_vid_26490.csv', 'labels_y/frame_Giving_money_vid_18750.csv', 'labels_y/frame_Giving_money_vid_9690.csv', 'labels_y/frame_Giving_money_vid_9390.csv', 'labels_y/frame_Giving_money_vid_8100.csv', 'labels_y/frame_Giving_money_vid_35910.csv', 'labels_y/frame_Giving_money_vid_19680.csv', 'labels_y/frame_Giving_money_vid_23880.csv', 'labels_y/frame_Giving_money_vid_17820.csv', 'labels_y/frame_Giving_money_vid_15240.csv', 'labels_y/frame_Giving_money_vid_2280.csv', 'labels_y/frame_Giving_money_vid_2160.csv', 'labels_y/frame_Giving_money_vid_15780.csv', 'labels_y/frame_Giving_money_vid_5370.csv', 'labels_y/frame_Giving_money_vid_9480.csv', 'labels_y/frame_Giving_money_vid_24450.csv', 'labels_y/frame_Giving_money_vid_840.csv', 'labels_y/frame_Giving_money_vid_35160.csv', 'labels_y/frame_Giving_money_vid_24120.csv', 'labels_y/frame_Giving_money_vid_10950.csv', 'labels_y/frame_Giving_money_vid_5100.csv', 'labels_y/frame_Giving_money_vid_13350.csv', 'labels_y/frame_Giving_money_vid_13140.csv', 'labels_y/frame_Giving_money_vid_11550.csv', 'labels_y/frame_Giving_money_vid_14700.csv', 'labels_y/frame_Giving_money_vid_13320.csv', 'labels_y/frame_Giving_money_vid_2340.csv', 'labels_y/frame_Giving_money_vid_21000.csv', 'labels_y/frame_Giving_money_vid_12960.csv', 'labels_y/frame_Giving_money_vid_16650.csv', 'labels_y/frame_Giving_money_vid_29460.csv', 'labels_y/frame_Giving_money_vid_38700.csv', 'labels_y/frame_Giving_money_vid_5610.csv', 'labels_y/frame_Giving_money_vid_7020.csv', 'labels_y/frame_Giving_money_vid_35370.csv', 'labels_y/frame_Giving_money_vid_17340.csv', 'labels_y/frame_Giving_money_vid_2580.csv', 'labels_y/frame_Giving_money_vid_19890.csv', 'labels_y/frame_Giving_money_vid_5550.csv', 'labels_y/frame_Giving_money_vid_7290.csv', 'labels_y/frame_Giving_money_vid_9180.csv', 'labels_y/frame_Giving_money_vid_23670.csv', 'labels_y/frame_Giving_money_vid_32070.csv', 'labels_y/frame_Giving_money_vid_24600.csv', 'labels_y/frame_Giving_money_vid_12120.csv', 'labels_y/frame_Giving_money_vid_4890.csv', 'labels_y/frame_Giving_money_vid_21540.csv', 'labels_y/frame_Giving_money_vid_19050.csv', 'labels_y/frame_Giving_money_vid_16590.csv', 'labels_y/frame_Giving_money_vid_36030.csv', 'labels_y/frame_Giving_money_vid_10770.csv', 'labels_y/frame_Giving_money_vid_16800.csv', 'labels_y/frame_Giving_money_vid_2970.csv', 'labels_y/frame_Giving_money_vid_29250.csv', 'labels_y/frame_Giving_money_vid_8010.csv', 'labels_y/frame_Giving_money_vid_20280.csv', 'labels_y/frame_Giving_money_vid_21600.csv', 'labels_y/frame_Giving_money_vid_29430.csv', 'labels_y/frame_Giving_money_vid_11790.csv', 'labels_y/frame_Giving_money_vid_34860.csv', 'labels_y/frame_Giving_money_vid_11040.csv', 'labels_y/frame_Giving_money_vid_24060.csv', 'labels_y/frame_Giving_money_vid_25500.csv', 'labels_y/frame_Giving_money_vid_12150.csv', 'labels_y/frame_Giving_money_vid_27960.csv', 'labels_y/frame_Giving_money_vid_14250.csv', 'labels_y/frame_Giving_money_vid_16920.csv', 'labels_y/frame_Giving_money_vid_11970.csv', 'labels_y/frame_Giving_money_vid_15930.csv', 'labels_y/frame_Giving_money_vid_6840.csv', 'labels_y/frame_Giving_money_vid_36420.csv', 'labels_y/frame_Giving_money_vid_5520.csv', 'labels_y/frame_Giving_money_vid_35100.csv', 'labels_y/frame_Giving_money_vid_27510.csv', 'labels_y/frame_Giving_money_vid_7050.csv', 'labels_y/frame_Giving_money_vid_11730.csv', 'labels_y/frame_Giving_money_vid_29520.csv', 'labels_y/frame_Giving_money_vid_20310.csv', 'labels_y/frame_Giving_money_vid_1260.csv', 'labels_y/frame_Giving_money_vid_14430.csv', 'labels_y/frame_Giving_money_vid_21360.csv', 'labels_y/frame_Giving_money_vid_4470.csv', 'labels_y/frame_Giving_money_vid_25320.csv', 'labels_y/frame_Giving_money_vid_690.csv', 'labels_y/frame_Giving_money_vid_14520.csv', 'labels_y/frame_Giving_money_vid_15630.csv', 'labels_y/frame_Giving_money_vid_24900.csv', 'labels_y/frame_Giving_money_vid_5580.csv', 'labels_y/frame_Giving_money_vid_23160.csv', 'labels_y/frame_Giving_money_vid_2730.csv', 'labels_y/frame_Giving_money_vid_12720.csv', 'labels_y/frame_Giving_money_vid_27900.csv', 'labels_y/frame_Giving_money_vid_16470.csv', 'labels_y/frame_Giving_money_vid_32010.csv', 'labels_y/frame_Giving_money_vid_22380.csv', 'labels_y/frame_Giving_money_vid_38190.csv', 'labels_y/frame_Giving_money_vid_26940.csv', 'labels_y/frame_Giving_money_vid_25800.csv', 'labels_y/frame_Giving_money_vid_16770.csv', 'labels_y/frame_Giving_money_vid_14040.csv', 'labels_y/frame_Giving_money_vid_6900.csv', 'labels_y/frame_Giving_money_vid_23100.csv', 'labels_y/frame_Giving_money_vid_12060.csv', 'labels_y/frame_Giving_money_vid_5670.csv', 'labels_y/frame_Giving_money_vid_21390.csv', 'labels_y/frame_Giving_money_vid_25620.csv', 'labels_y/frame_Giving_money_vid_9600.csv', 'labels_y/frame_Giving_money_vid_23250.csv', 'labels_y/frame_Giving_money_vid_37650.csv', 'labels_y/frame_Giving_money_vid_24630.csv', 'labels_y/frame_Giving_money_vid_7950.csv', 'labels_y/frame_Giving_money_vid_8040.csv', 'labels_y/frame_Giving_money_vid_24930.csv', 'labels_y/frame_Giving_money_vid_960.csv', 'labels_y/frame_Giving_money_vid_16830.csv', 'labels_y/frame_Giving_money_vid_34380.csv', 'labels_y/frame_Giving_money_vid_5340.csv', 'labels_y/frame_Giving_money_vid_37050.csv', 'labels_y/frame_Giving_money_vid_28950.csv', 'labels_y/frame_Giving_money_vid_25200.csv', 'labels_y/frame_Giving_money_vid_15180.csv', 'labels_y/frame_Giving_money_vid_36300.csv', 'labels_y/frame_Giving_money_vid_22830.csv', 'labels_y/frame_Giving_money_vid_1830.csv', 'labels_y/frame_Giving_money_vid_7860.csv', 'labels_y/frame_Giving_money_vid_25710.csv', 'labels_y/frame_Giving_money_vid_36990.csv', 'labels_y/frame_Giving_money_vid_16260.csv', 'labels_y/frame_Giving_money_vid_27390.csv', 'labels_y/frame_Giving_money_vid_15150.csv', 'labels_y/frame_Giving_money_vid_28830.csv', 'labels_y/frame_Giving_money_vid_11430.csv', 'labels_y/frame_Giving_money_vid_21630.csv', 'labels_y/frame_Giving_money_vid_1590.csv', 'labels_y/frame_Giving_money_vid_34710.csv', 'labels_y/frame_Giving_money_vid_22140.csv', 'labels_y/frame_Giving_money_vid_11670.csv', 'labels_y/frame_Giving_money_vid_5910.csv', 'labels_y/frame_Giving_money_vid_3930.csv', 'labels_y/frame_Giving_money_vid_38430.csv', 'labels_y/frame_Giving_money_vid_2010.csv', 'labels_y/frame_Giving_money_vid_11190.csv', 'labels_y/frame_Giving_money_vid_3870.csv', 'labels_y/frame_Giving_money_vid_13110.csv', 'labels_y/frame_Giving_money_vid_28620.csv', 'labels_y/frame_Giving_money_vid_11760.csv', 'labels_y/frame_Giving_money_vid_20640.csv', 'labels_y/frame_Giving_money_vid_3840.csv', 'labels_y/frame_Giving_money_vid_11310.csv', 'labels_y/frame_Giving_money_vid_6870.csv', 'labels_y/frame_Giving_money_vid_37620.csv', 'labels_y/frame_Giving_money_vid_10980.csv', 'labels_y/frame_Giving_money_vid_9840.csv', 'labels_y/frame_Giving_money_vid_6810.csv', 'labels_y/frame_Giving_money_vid_31920.csv', 'labels_y/frame_Giving_money_vid_2250.csv', 'labels_y/frame_Giving_money_vid_27690.csv', 'labels_y/frame_Giving_money_vid_10440.csv', 'labels_y/frame_Giving_money_vid_26610.csv', 'labels_y/frame_Giving_money_vid_20070.csv', 'labels_y/frame_Giving_money_vid_38370.csv', 'labels_y/frame_Giving_money_vid_6150.csv', 'labels_y/frame_Giving_money_vid_3000.csv', 'labels_y/frame_Giving_money_vid_18120.csv', 'labels_y/frame_Giving_money_vid_37170.csv', 'labels_y/frame_Giving_money_vid_600.csv', 'labels_y/frame_Giving_money_vid_3360.csv', 'labels_y/frame_Giving_money_vid_11940.csv', 'labels_y/frame_Giving_money_vid_28800.csv', 'labels_y/frame_Giving_money_vid_21990.csv', 'labels_y/frame_Giving_money_vid_23700.csv', 'labels_y/frame_Giving_money_vid_32940.csv', 'labels_y/frame_Giving_money_vid_9660.csv', 'labels_y/frame_Giving_money_vid_27120.csv', 'labels_y/frame_Giving_money_vid_18240.csv', 'labels_y/frame_Giving_money_vid_26460.csv', 'labels_y/frame_Giving_money_vid_37920.csv', 'labels_y/frame_Giving_money_vid_4200.csv', 'labels_y/frame_Giving_money_vid_27810.csv', 'labels_y/frame_Giving_money_vid_20100.csv', 'labels_y/frame_Giving_money_vid_20340.csv', 'labels_y/frame_Giving_money_vid_6570.csv', 'labels_y/frame_Giving_money_vid_21060.csv', 'labels_y/frame_Giving_money_vid_13170.csv', 'labels_y/frame_Giving_money_vid_20520.csv', 'labels_y/frame_Giving_money_vid_29640.csv', 'labels_y/frame_Giving_money_vid_29070.csv', 'labels_y/frame_Giving_money_vid_18090.csv', 'labels_y/frame_Giving_money_vid_13290.csv', 'labels_y/frame_Giving_money_vid_11070.csv', 'labels_y/frame_Giving_money_vid_11400.csv', 'labels_y/frame_Giving_money_vid_8160.csv', 'labels_y/frame_Giving_money_vid_7830.csv', 'labels_y/frame_Giving_money_vid_15960.csv', 'labels_y/frame_Giving_money_vid_7200.csv', 'labels_y/frame_Giving_money_vid_23340.csv', 'labels_y/frame_Giving_money_vid_6510.csv', 'labels_y/frame_Giving_money_vid_9750.csv', 'labels_y/frame_Giving_money_vid_10170.csv', 'labels_y/frame_Giving_money_vid_26400.csv', 'labels_y/frame_Giving_money_vid_28230.csv', 'labels_y/frame_Giving_money_vid_12870.csv', 'labels_y/frame_Giving_money_vid_34950.csv', 'labels_y/frame_Giving_money_vid_33000.csv', 'labels_y/frame_Giving_money_vid_25650.csv', 'labels_y/frame_Giving_money_vid_18780.csv', 'labels_y/frame_Giving_money_vid_3780.csv', 'labels_y/frame_Giving_money_vid_7560.csv', 'labels_y/frame_Giving_money_vid_35040.csv', 'labels_y/frame_Giving_money_vid_25290.csv', 'labels_y/frame_Giving_money_vid_38280.csv', 'labels_y/frame_Giving_money_vid_10260.csv', 'labels_y/frame_Giving_money_vid_26760.csv', 'labels_y/frame_Giving_money_vid_24510.csv', 'labels_y/frame_Giving_money_vid_15270.csv', 'labels_y/frame_Giving_money_vid_36000.csv', 'labels_y/frame_Giving_money_vid_26550.csv', 'labels_y/frame_Giving_money_vid_7620.csv', 'labels_y/frame_Giving_money_vid_2040.csv', 'labels_y/frame_Giving_money_vid_6330.csv', 'labels_y/frame_Giving_money_vid_750.csv', 'labels_y/frame_Giving_money_vid_12660.csv', 'labels_y/frame_Giving_money_vid_17490.csv', 'labels_y/frame_Giving_money_vid_36330.csv', 'labels_y/frame_Giving_money_vid_23190.csv', 'labels_y/frame_Giving_money_vid_19590.csv', 'labels_y/frame_Giving_money_vid_9720.csv', 'labels_y/frame_Giving_money_vid_4290.csv', 'labels_y/frame_Giving_money_vid_22170.csv', 'labels_y/frame_Giving_money_vid_36270.csv', 'labels_y/frame_Giving_money_vid_10320.csv', 'labels_y/frame_Giving_money_vid_7530.csv', 'labels_y/frame_Giving_money_vid_27990.csv', 'labels_y/frame_Giving_money_vid_29220.csv', 'labels_y/frame_Giving_money_vid_6990.csv', 'labels_y/frame_Giving_money_vid_5220.csv', 'labels_y/frame_Giving_money_vid_34530.csv', 'labels_y/frame_Giving_money_vid_29280.csv', 'labels_y/frame_Giving_money_vid_13980.csv', 'labels_y/frame_Giving_money_vid_14160.csv', 'labels_y/frame_Giving_money_vid_22740.csv', 'labels_y/frame_Giving_money_vid_3570.csv', 'labels_y/frame_Giving_money_vid_8130.csv', 'labels_y/frame_Giving_money_vid_22860.csv', 'labels_y/frame_Giving_money_vid_4680.csv', 'labels_y/frame_Giving_money_vid_17070.csv', 'labels_y/frame_Giving_money_vid_20250.csv', 'labels_y/frame_Giving_money_vid_3090.csv', 'labels_y/frame_Giving_money_vid_35490.csv', 'labels_y/frame_Giving_money_vid_37530.csv', 'labels_y/frame_Giving_money_vid_15660.csv', 'labels_y/frame_Giving_money_vid_34230.csv', 'labels_y/frame_Giving_money_vid_14070.csv', 'labels_y/frame_Giving_money_vid_25140.csv', 'labels_y/frame_Giving_money_vid_27090.csv', 'labels_y/frame_Giving_money_vid_21570.csv', 'labels_y/frame_Giving_money_vid_6030.csv', 'labels_y/frame_Giving_money_vid_35550.csv', 'labels_y/frame_Giving_money_vid_17850.csv', 'labels_y/frame_Giving_money_vid_1110.csv', 'labels_y/frame_Giving_money_vid_16530.csv', 'labels_y/frame_Giving_money_vid_19710.csv', 'labels_y/frame_Giving_money_vid_15810.csv', 'labels_y/frame_Giving_money_vid_7890.csv', 'labels_y/frame_Giving_money_vid_20910.csv', 'labels_y/frame_Giving_money_vid_5820.csv', 'labels_y/frame_Giving_money_vid_38310.csv', 'labels_y/frame_Giving_money_vid_4230.csv', 'labels_y/frame_Giving_money_vid_10350.csv', 'labels_y/frame_Giving_money_vid_38550.csv', 'labels_y/frame_Giving_money_vid_780.csv', 'labels_y/frame_Giving_money_vid_9240.csv', 'labels_y/frame_Giving_money_vid_21450.csv', 'labels_y/frame_Giving_money_vid_19320.csv', 'labels_y/frame_Giving_money_vid_7710.csv', 'labels_y/frame_Giving_money_vid_20490.csv', 'labels_y/frame_Giving_money_vid_10500.csv', 'labels_y/frame_Giving_money_vid_6750.csv', 'labels_y/frame_Giving_money_vid_12810.csv', 'labels_y/frame_Giving_money_vid_21120.csv', 'labels_y/frame_Giving_money_vid_32190.csv', 'labels_y/frame_Giving_money_vid_29610.csv', 'labels_y/frame_Giving_money_vid_20220.csv', 'labels_y/frame_Giving_money_vid_35760.csv', 'labels_y/frame_Giving_money_vid_19650.csv', 'labels_y/frame_Giving_money_vid_3810.csv', 'labels_y/frame_Giving_money_vid_10200.csv', 'labels_y/frame_Giving_money_vid_38340.csv', 'labels_y/frame_Giving_money_vid_21720.csv', 'labels_y/frame_Giving_money_vid_12420.csv', 'labels_y/frame_Giving_money_vid_34260.csv', 'labels_y/frame_Giving_money_vid_14760.csv', 'labels_y/frame_Giving_money_vid_2190.csv', 'labels_y/frame_Giving_money_vid_6780.csv', 'labels_y/frame_Giving_money_vid_27240.csv', 'labels_y/frame_Giving_money_vid_26520.csv', 'labels_y/frame_Giving_money_vid_28890.csv', 'labels_y/frame_Giving_money_vid_10230.csv', 'labels_y/frame_Giving_money_vid_9270.csv', 'labels_y/frame_Giving_money_vid_11700.csv', 'labels_y/frame_Giving_money_vid_19290.csv', 'labels_y/frame_Giving_money_vid_12300.csv', 'labels_y/frame_Giving_money_vid_38010.csv', 'labels_y/frame_Giving_money_vid_11640.csv', 'labels_y/frame_Giving_money_vid_4590.csv', 'labels_y/frame_Giving_money_vid_24240.csv', 'labels_y/frame_Giving_money_vid_38760.csv', 'labels_y/frame_Giving_money_vid_18720.csv', 'labels_y/frame_Giving_money_vid_27570.csv', 'labels_y/frame_Giving_money_vid_8970.csv', 'labels_y/frame_Giving_money_vid_17010.csv', 'labels_y/frame_Giving_money_vid_17190.csv', 'labels_y/frame_Giving_money_vid_24300.csv', 'labels_y/frame_Giving_money_vid_14010.csv', 'labels_y/frame_Giving_money_vid_19620.csv', 'labels_y/frame_Giving_money_vid_12090.csv', 'labels_y/frame_Giving_money_vid_13860.csv', 'labels_y/frame_Giving_money_vid_9300.csv', 'labels_y/frame_Giving_money_vid_3270.csv', 'labels_y/frame_Giving_money_vid_28770.csv', 'labels_y/frame_Giving_money_vid_13260.csv', 'labels_y/frame_Giving_money_vid_2640.csv', 'labels_y/frame_Giving_money_vid_3330.csv', 'labels_y/frame_Giving_money_vid_20970.csv', 'labels_y/frame_Giving_money_vid_22080.csv', 'labels_y/frame_Giving_money_vid_27150.csv', 'labels_y/frame_Giving_money_vid_15840.csv', 'labels_y/frame_Giving_money_vid_31530.csv', 'labels_y/frame_Giving_money_vid_5250.csv', 'labels_y/frame_Giving_money_vid_18930.csv', 'labels_y/frame_Giving_money_vid_12240.csv', 'labels_y/frame_Giving_money_vid_24360.csv', 'labels_y/frame_Giving_money_vid_33060.csv', 'labels_y/frame_Giving_money_vid_35820.csv', 'labels_y/frame_Giving_money_vid_12930.csv', 'labels_y/frame_Giving_money_vid_21420.csv', 'labels_y/frame_Giving_money_vid_34560.csv', 'labels_y/frame_Giving_money_vid_2100.csv', 'labels_y/frame_Giving_money_vid_22500.csv', 'labels_y/frame_Giving_money_vid_28500.csv', 'labels_y/frame_Giving_money_vid_29160.csv', 'labels_y/frame_Giving_money_vid_25980.csv', 'labels_y/frame_Giving_money_vid_15870.csv', 'labels_y/frame_Giving_money_vid_3690.csv', 'labels_y/frame_Giving_money_vid_4800.csv', 'labels_y/frame_Giving_money_vid_31860.csv', 'labels_y/frame_Giving_money_vid_35850.csv', 'labels_y/frame_Giving_money_vid_24330.csv', 'labels_y/frame_Giving_money_vid_32700.csv', 'labels_y/frame_Giving_money_vid_3060.csv', 'labels_y/frame_Giving_money_vid_34350.csv', 'labels_y/frame_Giving_money_vid_21840.csv', 'labels_y/frame_Giving_money_vid_16350.csv', 'labels_y/frame_Giving_money_vid_14190.csv', 'labels_y/frame_Giving_money_vid_6240.csv', 'labels_y/frame_Giving_money_vid_7410.csv', 'labels_y/frame_Giving_money_vid_19950.csv', 'labels_y/frame_Giving_money_vid_7080.csv', 'labels_y/frame_Giving_money_vid_12450.csv', 'labels_y/frame_Giving_money_vid_10050.csv', 'labels_y/frame_Giving_money_vid_36180.csv', 'labels_y/frame_Giving_money_vid_34080.csv', 'labels_y/frame_Giving_money_vid_11160.csv', 'labels_y/frame_Giving_money_vid_38670.csv', 'labels_y/frame_Giving_money_vid_18900.csv', 'labels_y/frame_Giving_money_vid_24030.csv', 'labels_y/frame_Giving_money_vid_25890.csv', 'labels_y/frame_Giving_money_vid_2820.csv', 'labels_y/frame_Giving_money_vid_420.csv', 'labels_y/frame_Giving_money_vid_3450.csv', 'labels_y/frame_Giving_money_vid_3540.csv', 'labels_y/frame_Giving_money_vid_32130.csv', 'labels_y/frame_Giving_money_vid_6540.csv', 'labels_y/frame_Giving_money_vid_6210.csv', 'labels_y/frame_Giving_money_vid_7140.csv', 'labels_y/frame_Giving_money_vid_10680.csv', 'labels_y/frame_Giving_money_vid_9510.csv', 'labels_y/frame_Giving_money_vid_16020.csv', 'labels_y/frame_Giving_money_vid_32100.csv', 'labels_y/frame_Giving_money_vid_34890.csv', 'labels_y/frame_Giving_money_vid_36570.csv', 'labels_y/frame_Giving_money_vid_360.csv', 'labels_y/frame_Giving_money_vid_20550.csv', 'labels_y/frame_Giving_money_vid_38250.csv', 'labels_y/frame_Giving_money_vid_2790.csv', 'labels_y/frame_Giving_money_vid_20790.csv', 'labels_y/frame_Giving_money_vid_19200.csv', 'labels_y/frame_Giving_money_vid_1770.csv', 'labels_y/frame_Giving_money_vid_27270.csv', 'labels_y/frame_Giving_money_vid_6690.csv', 'labels_y/frame_Giving_money_vid_25680.csv', 'labels_y/frame_Giving_money_vid_35880.csv', 'labels_y/frame_Giving_money_vid_9780.csv', 'labels_y/frame_Giving_money_vid_13770.csv', 'labels_y/frame_Giving_money_vid_7230.csv', 'labels_y/frame_Giving_money_vid_25020.csv', 'labels_y/frame_Giving_money_vid_31890.csv', 'labels_y/frame_Giving_money_vid_14370.csv', 'labels_y/frame_Giving_money_vid_15360.csv', 'labels_y/frame_Giving_money_vid_11220.csv', 'labels_y/frame_Giving_money_vid_34470.csv', 'labels_y/frame_Giving_money_vid_7320.csv', 'labels_y/frame_Giving_money_vid_13830.csv', 'labels_y/frame_Giving_money_vid_29100.csv', 'labels_y/frame_Giving_money_vid_13740.csv', 'labels_y/frame_Giving_money_vid_11100.csv', 'labels_y/frame_Giving_money_vid_1920.csv', 'labels_y/frame_Giving_money_vid_27600.csv', 'labels_y/frame_Giving_money_vid_19170.csv', 'labels_y/frame_Giving_money_vid_10650.csv', 'labels_y/frame_Giving_money_vid_19740.csv', 'labels_y/frame_Giving_money_vid_10290.csv', 'labels_y/frame_Giving_money_vid_13590.csv', 'labels_y/frame_Giving_money_vid_18330.csv', 'labels_y/frame_Giving_money_vid_7980.csv', 'labels_y/frame_Giving_money_vid_28530.csv', 'labels_y/frame_Giving_money_vid_32910.csv', 'labels_y/frame_Giving_money_vid_9150.csv', 'labels_y/frame_Giving_money_vid_6000.csv', 'labels_y/frame_Giving_money_vid_21030.csv', 'labels_y/frame_Giving_money_vid_9870.csv', 'labels_y/frame_Giving_money_vid_20730.csv', 'labels_y/frame_Giving_money_vid_20850.csv', 'labels_y/frame_Giving_money_vid_4050.csv', 'labels_y/frame_Giving_money_vid_27840.csv', 'labels_y/frame_Giving_money_vid_9630.csv', 'labels_y/frame_Giving_money_vid_19530.csv', 'labels_y/frame_Giving_money_vid_12750.csv', 'labels_y/frame_Giving_money_vid_24840.csv', 'labels_y/frame_Giving_money_vid_1230.csv', 'labels_y/frame_Giving_money_vid_3750.csv', 'labels_y/frame_Giving_money_vid_20820.csv', 'labels_y/frame_Giving_money_vid_4620.csv', 'labels_y/frame_Giving_money_vid_18960.csv', 'labels_y/frame_Giving_money_vid_28380.csv', 'labels_y/frame_Giving_money_vid_36120.csv', 'labels_y/frame_Giving_money_vid_32880.csv', 'labels_y/frame_Giving_money_vid_27780.csv', 'labels_y/frame_Giving_money_vid_12840.csv', 'labels_y/frame_Giving_money_vid_26730.csv', 'labels_y/frame_Giving_money_vid_19470.csv', 'labels_y/frame_Giving_money_vid_16170.csv', 'labels_y/frame_Giving_money_vid_14280.csv', 'labels_y/frame_Giving_money_vid_15300.csv', 'labels_y/frame_Giving_money_vid_14220.csv', 'labels_y/frame_Giving_money_vid_25050.csv', 'labels_y/frame_Giving_money_vid_1380.csv', 'labels_y/frame_Giving_money_vid_3240.csv', 'labels_y/frame_Giving_money_vid_6300.csv', 'labels_y/frame_Giving_money_vid_3420.csv', 'labels_y/frame_Giving_money_vid_14580.csv', 'labels_y/frame_Giving_money_vid_16230.csv', 'labels_y/frame_Giving_money_vid_37770.csv', 'labels_y/frame_Giving_money_vid_24210.csv', 'labels_y/frame_Giving_money_vid_10620.csv', 'labels_y/frame_Giving_money_vid_19500.csv', 'labels_y/frame_Giving_money_vid_28290.csv', 'labels_y/frame_Giving_money_vid_14970.csv', 'labels_y/frame_Giving_money_vid_3600.csv', 'labels_y/frame_Giving_money_vid_5640.csv', 'labels_y/frame_Giving_money_vid_22350.csv', 'labels_y/frame_Giving_money_vid_34140.csv', 'labels_y/frame_Giving_money_vid_17430.csv', 'labels_y/frame_Giving_money_vid_25950.csv', 'labels_y/frame_Giving_money_vid_31500.csv', 'labels_y/frame_Giving_money_vid_2310.csv', 'labels_y/frame_Giving_money_vid_13020.csv', 'labels_y/frame_Giving_money_vid_34320.csv', 'labels_y/frame_Giving_money_vid_10860.csv', 'labels_y/frame_Giving_money_vid_19860.csv', 'labels_y/frame_Giving_money_vid_6090.csv', 'labels_y/frame_Giving_money_vid_11490.csv', 'labels_y/frame_Giving_money_vid_1530.csv', 'labels_y/frame_Giving_money_vid_37800.csv', 'labels_y/frame_Giving_money_vid_23850.csv', 'labels_y/frame_Giving_money_vid_18990.csv', 'labels_y/frame_Giving_money_vid_12360.csv', 'labels_y/frame_Giving_money_vid_26430.csv', 'labels_y/frame_Giving_money_vid_34410.csv', 'labels_y/frame_Giving_money_vid_9570.csv', 'labels_y/frame_Giving_money_vid_32850.csv', 'labels_y/frame_Giving_money_vid_14340.csv', 'labels_y/frame_Giving_money_vid_1200.csv', 'labels_y/frame_Giving_money_vid_16410.csv', 'labels_y/frame_Giving_money_vid_5040.csv', 'labels_y/frame_Giving_money_vid_27180.csv', 'labels_y/frame_Giving_money_vid_16200.csv', 'labels_y/frame_Giving_money_vid_2520.csv', 'labels_y/frame_Giving_money_vid_20190.csv', 'labels_y/frame_Giving_money_vid_23820.csv', 'labels_y/frame_Giving_money_vid_10710.csv', 'labels_y/frame_Giving_money_vid_23910.csv', 'labels_y/frame_Giving_money_vid_38730.csv', 'labels_y/frame_Giving_money_vid_16380.csv', 'labels_y/frame_Giving_money_vid_16950.csv', 'labels_y/frame_Giving_money_vid_2670.csv', 'labels_y/frame_Giving_money_vid_4740.csv', 'labels_y/frame_Giving_money_vid_34170.csv', 'labels_y/frame_Giving_money_vid_28350.csv', 'labels_y/frame_Giving_money_vid_24720.csv', 'labels_y/frame_Giving_money_vid_390.csv', 'labels_y/frame_Giving_money_vid_7260.csv', 'labels_y/frame_Giving_money_vid_5850.csv', 'labels_y/frame_Giving_money_vid_22410.csv', 'labels_y/frame_Giving_money_vid_32790.csv', 'labels_y/frame_Giving_money_vid_27660.csv', 'labels_y/frame_Giving_money_vid_11610.csv', 'labels_y/frame_Giving_money_vid_27420.csv', 'labels_y/frame_Giving_money_vid_18360.csv', 'labels_y/frame_Giving_money_vid_10110.csv', 'labels_y/frame_Giving_money_vid_22770.csv', 'labels_y/frame_Giving_money_vid_5730.csv', 'labels_y/frame_Giving_money_vid_7650.csv', 'labels_y/frame_Giving_money_vid_14490.csv', 'labels_y/frame_Giving_money_vid_25770.csv', 'labels_y/frame_Giving_money_vid_12270.csv', 'labels_y/frame_Giving_money_vid_10140.csv', 'labels_y/frame_Giving_money_vid_3720.csv', 'labels_y/frame_Giving_money_vid_1410.csv', 'labels_y/frame_Giving_money_vid_11850.csv', 'labels_y/frame_Giving_money_vid_15720.csv', 'labels_y/frame_Giving_money_vid_28050.csv', 'labels_y/frame_Giving_money_vid_3960.csv', 'labels_y/frame_Giving_money_vid_450.csv', 'labels_y/frame_Giving_money_vid_2370.csv', 'labels_y/frame_Giving_money_vid_24390.csv', 'labels_y/frame_Giving_money_vid_570.csv', 'labels_y/frame_Giving_money_vid_4860.csv', 'labels_y/frame_Giving_money_vid_14460.csv', 'labels_y/frame_Giving_money_vid_22110.csv', 'labels_y/frame_Giving_money_vid_13950.csv', 'labels_y/frame_Giving_money_vid_13080.csv', 'labels_y/frame_Giving_money_vid_19800.csv', 'labels_y/frame_Giving_money_vid_4170.csv', 'labels_y/frame_Giving_money_vid_25560.csv', 'labels_y/frame_Giving_money_vid_18390.csv', 'labels_y/frame_Giving_money_vid_1560.csv', 'labels_y/frame_Giving_money_vid_37860.csv', 'labels_y/frame_Giving_money_vid_21330.csv', 'labels_y/frame_Giving_money_vid_12690.csv', 'labels_y/frame_Giving_money_vid_36090.csv', 'labels_y/frame_Giving_money_vid_7800.csv', 'labels_y/frame_Giving_money_vid_19410.csv', 'labels_y/frame_Giving_money_vid_1620.csv', 'labels_y/frame_Giving_money_vid_5880.csv', 'labels_y/frame_Giving_money_vid_9330.csv', 'labels_y/frame_Giving_money_vid_3630.csv', 'labels_y/frame_Giving_money_vid_25080.csv', 'labels_y/frame_Giving_money_vid_4260.csv', 'labels_y/frame_Giving_money_vid_6720.csv', 'labels_y/frame_Giving_money_vid_14640.csv', 'labels_y/frame_Giving_money_vid_19080.csv', 'labels_y/frame_Giving_money_vid_15090.csv', 'labels_y/frame_Giving_money_vid_13920.csv', 'labels_y/frame_Giving_money_vid_9000.csv', 'labels_y/frame_Giving_money_vid_6180.csv', 'labels_y/frame_Giving_money_vid_28920.csv', 'labels_y/frame_Giving_money_vid_660.csv', 'labels_y/frame_Giving_money_vid_24810.csv', 'labels_y/frame_Giving_money_vid_6960.csv', 'labels_y/frame_Giving_money_vid_25230.csv', 'labels_y/frame_Giving_money_vid_13200.csv', 'labels_y/frame_Giving_money_vid_26580.csv', 'labels_y/frame_Giving_money_vid_4770.csv', 'labels_y/frame_Giving_money_vid_15600.csv', 'labels_y/frame_Giving_money_vid_6360.csv', 'labels_y/frame_Giving_money_vid_23760.csv', 'labels_y/frame_Giving_money_vid_23730.csv', 'labels_y/frame_Giving_money_vid_1440.csv', 'labels_y/frame_Giving_money_vid_10560.csv', 'labels_y/frame_Giving_money_vid_12780.csv', 'labels_y/frame_Giving_money_vid_13650.csv', 'labels_y/frame_Giving_money_vid_3120.csv', 'labels_y/frame_Giving_money_vid_9120.csv', 'labels_y/frame_Giving_money_vid_27540.csv', 'labels_y/frame_Giving_money_vid_17280.csv', 'labels_y/frame_Giving_money_vid_18150.csv', 'labels_y/frame_Giving_money_vid_23970.csv', 'labels_y/frame_Giving_money_vid_29010.csv', 'labels_y/frame_Giving_money_vid_21870.csv', 'labels_y/frame_Giving_money_vid_7590.csv', 'labels_y/frame_Giving_money_vid_16860.csv', 'labels_y/frame_Giving_money_vid_26640.csv', 'labels_y/frame_Giving_money_vid_22320.csv', 'labels_y/frame_Giving_money_vid_29040.csv', 'labels_y/frame_Giving_money_vid_15900.csv', 'labels_y/frame_Giving_money_vid_35280.csv', 'labels_y/frame_Giving_money_vid_22260.csv', 'labels_y/frame_Giving_money_vid_8070.csv', 'labels_y/frame_Giving_money_vid_17790.csv', 'labels_y/frame_Giving_money_vid_9900.csv', 'labels_y/frame_Giving_money_vid_28650.csv', 'labels_y/frame_Giving_money_vid_20580.csv', 'labels_y/frame_Giving_money_vid_31980.csv', 'labels_y/frame_Giving_money_vid_11130.csv', 'labels_y/frame_Giving_money_vid_9810.csv', 'labels_y/frame_Giving_money_vid_5460.csv', 'labels_y/frame_Giving_money_vid_12210.csv', 'labels_y/frame_Giving_money_vid_5760.csv', 'labels_y/frame_Giving_money_vid_16050.csv', 'labels_y/frame_Giving_money_vid_6660.csv', 'labels_y/frame_Giving_money_vid_2550.csv', 'labels_y/frame_Giving_money_vid_24480.csv', 'labels_y/frame_Giving_money_vid_12480.csv', 'labels_y/frame_Giving_money_vid_12330.csv', 'labels_y/frame_Giving_money_vid_23370.csv', 'labels_y/frame_Giving_money_vid_13440.csv', 'labels_y/frame_Giving_money_vid_9540.csv', 'labels_y/frame_Giving_money_vid_15540.csv', 'labels_y/frame_Giving_money_vid_22470.csv', 'labels_y/frame_Giving_money_vid_29370.csv', 'labels_y/frame_Giving_money_vid_24270.csv', 'labels_y/frame_Giving_money_vid_11250.csv', 'labels_y/frame_Giving_money_vid_37320.csv', 'labels_y/frame_Giving_money_vid_24540.csv', 'labels_y/frame_Giving_money_vid_20940.csv', 'labels_y/frame_Giving_money_vid_35790.csv', 'labels_y/frame_Giving_money_vid_2610.csv', 'labels_y/frame_Giving_money_vid_16140.csv', 'labels_y/frame_Giving_money_vid_1470.csv', 'labels_y/frame_Giving_money_vid_9990.csv', 'labels_y/frame_Giving_money_vid_630.csv', 'labels_y/frame_Giving_money_vid_18420.csv', 'labels_y/frame_Giving_money_vid_6480.csv', 'labels_y/frame_Giving_money_vid_20610.csv', 'labels_y/frame_Giving_money_vid_4140.csv', 'labels_y/frame_Giving_money_vid_17880.csv', 'labels_y/frame_Giving_money_vid_15450.csv', 'labels_y/frame_Giving_money_vid_34050.csv', 'labels_y/frame_Giving_money_vid_25590.csv', 'labels_y/frame_Giving_money_vid_10920.csv', 'labels_y/frame_Giving_money_vid_32160.csv', 'labels_y/frame_Giving_money_vid_12570.csv', 'labels_y/frame_Giving_money_vid_2460.csv', 'labels_y/frame_Giving_money_vid_37890.csv', 'labels_y/frame_Giving_money_vid_21090.csv', 'labels_y/frame_Giving_money_vid_24690.csv', 'labels_y/frame_Giving_money_vid_21750.csv', 'labels_y/frame_Giving_money_vid_19920.csv', 'labels_y/frame_Giving_money_vid_1290.csv', 'labels_y/frame_Giving_money_vid_15000.csv', 'labels_y/frame_Giving_money_vid_9450.csv', 'labels_y/frame_Giving_money_vid_17250.csv', 'labels_y/frame_Giving_money_vid_28110.csv', 'labels_y/frame_Giving_money_vid_27300.csv', 'labels_y/frame_Giving_money_vid_4530.csv', 'labels_y/frame_Giving_money_vid_20700.csv', 'labels_y/frame_Giving_money_vid_23940.csv', 'labels_y/frame_Giving_money_vid_28710.csv', 'labels_y/frame_Giving_money_vid_20040.csv', 'labels_y/frame_Giving_money_vid_14310.csv', 'labels_y/frame_Giving_money_vid_7350.csv', 'labels_y/frame_Giving_money_vid_7470.csv', 'labels_y/frame_Giving_money_vid_6120.csv', 'labels_y/frame_Giving_money_vid_7380.csv', 'labels_y/frame_Giving_money_vid_38580.csv', 'labels_y/frame_Giving_money_vid_3030.csv', 'labels_y/frame_Giving_money_vid_32670.csv', 'labels_y/frame_Giving_money_vid_20370.csv', 'labels_y/frame_Giving_money_vid_810.csv', 'labels_y/frame_Giving_money_vid_31950.csv', 'labels_y/frame_Giving_money_vid_2130.csv', 'labels_y/frame_Giving_money_vid_10530.csv', 'labels_y/frame_Giving_money_vid_15750.csv', 'labels_y/frame_Giving_money_vid_1800.csv', 'labels_y/frame_Giving_money_vid_4350.csv', 'labels_y/frame_Giving_money_vid_24090.csv', 'labels_y/frame_Giving_money_vid_4830.csv', 'labels_y/frame_Giving_money_vid_1170.csv', 'labels_y/frame_Giving_money_vid_12030.csv', 'labels_y/frame_Giving_money_vid_10380.csv', 'labels_y/frame_Giving_money_vid_27450.csv', 'labels_y/frame_Giving_money_vid_34680.csv', 'labels_y/frame_Giving_money_vid_14730.csv', 'labels_y/frame_Giving_money_vid_15060.csv', 'labels_y/frame_Giving_money_vid_34650.csv', 'labels_y/frame_Giving_money_vid_22680.csv', 'labels_y/frame_Giving_money_vid_5190.csv', 'labels_y/frame_Giving_money_vid_22800.csv', 'labels_y/frame_Giving_money_vid_34500.csv', 'labels_y/frame_Giving_money_vid_24570.csv', 'labels_y/frame_Giving_money_vid_14790.csv', 'labels_y/frame_Giving_money_vid_36150.csv', 'labels_y/frame_Giving_money_vid_15690.csv', 'labels_y/frame_Giving_money_vid_720.csv', 'labels_y/frame_Giving_money_vid_38520.csv', 'labels_y/frame_Giving_money_vid_22440.csv', 'labels_y/frame_Giving_money_vid_32760.csv', 'labels_y/frame_Giving_money_vid_480.csv', 'labels_y/frame_Giving_money_vid_18450.csv', 'labels_y/frame_Giving_money_vid_2700.csv', 'labels_y/frame_Giving_money_vid_10830.csv', 'labels_y/frame_Giving_money_vid_21780.csv', 'labels_y/frame_Giving_money_vid_13380.csv', 'labels_y/frame_Giving_money_vid_5310.csv', 'labels_y/frame_Giving_money_vid_32970.csv', 'labels_y/frame_Giving_money_vid_4440.csv', 'labels_y/frame_Giving_money_vid_10410.csv', 'labels_y/frame_Giving_money_vid_27750.csv', 'labels_y/frame_Giving_money_vid_37410.csv', 'labels_y/frame_Giving_money_vid_7680.csv', 'labels_y/frame_Giving_money_vid_3900.csv', 'labels_y/frame_Giving_money_vid_13530.csv', 'labels_y/frame_Giving_money_vid_11280.csv', 'labels_y/frame_Giving_money_vid_12540.csv', 'labels_y/frame_Giving_money_vid_1320.csv', 'labels_y/frame_Giving_money_vid_870.csv', 'labels_y/frame_Giving_money_vid_16890.csv', 'labels_y/frame_Giving_money_vid_7920.csv', 'labels_y/frame_Giving_money_vid_34200.csv', 'labels_y/frame_Giving_money_vid_37950.csv', 'labels_y/frame_Giving_money_vid_12180.csv', 'labels_y/frame_Giving_money_vid_37350.csv', 'labels_y/frame_Giving_money_vid_25170.csv', 'labels_y/frame_Giving_money_vid_1350.csv', 'labels_y/frame_Giving_money_vid_19830.csv', 'labels_y/frame_Giving_money_vid_15210.csv', 'labels_y/frame_Giving_money_vid_10080.csv', 'labels_y/frame_Giving_money_vid_10020.csv', 'labels_y/frame_Giving_money_vid_24150.csv', 'labels_y/frame_Giving_money_vid_28860.csv', 'labels_y/frame_Giving_money_vid_27870.csv', 'labels_y/frame_Giving_money_vid_25380.csv', 'labels_y/frame_Giving_money_vid_2400.csv', 'labels_y/frame_Giving_money_vid_21510.csv', 'labels_y/frame_Giving_money_vid_3390.csv', 'labels_y/frame_Giving_money_vid_10590.csv', 'labels_y/frame_Giving_money_vid_23070.csv', 'labels_y/frame_Giving_money_vid_22200.csv', 'labels_y/frame_Giving_money_vid_22920.csv', 'labels_y/frame_Giving_money_vid_2880.csv', 'labels_y/frame_Giving_money_vid_2760.csv', 'labels_y/frame_Giving_money_vid_27720.csv', 'labels_y/frame_Giving_money_vid_33600.csv', 'labels_y/frame_Giving_money_vid_25830.csv', 'labels_y/frame_Giving_money_vid_4710.csv', 'labels_y/frame_Giving_money_vid_4560.csv', 'labels_y/frame_Giving_money_vid_38400.csv', 'labels_y/frame_Giving_money_vid_11910.csv', 'labels_y/frame_Giving_money_vid_5790.csv', 'labels_y/frame_Giving_money_vid_3990.csv', 'labels_y/frame_Giving_money_vid_5400.csv', 'labels_y/frame_Giving_money_vid_20010.csv', 'labels_y/frame_Giving_money_vid_22710.csv', 'labels_y/frame_Giving_money_vid_5700.csv', 'labels_y/frame_Giving_money_vid_31770.csv', 'labels_y/frame_Giving_money_vid_19350.csv', 'labels_y/frame_Giving_money_vid_28410.csv', 'labels_y/frame_Giving_money_vid_6420.csv', 'labels_y/frame_Giving_money_vid_12900.csv', 'labels_y/frame_Giving_money_vid_38460.csv', 'labels_y/frame_Giving_money_vid_12390.csv', 'labels_y/frame_Giving_money_vid_28980.csv', 'labels_y/frame_Giving_money_vid_37020.csv', 'labels_y/frame_Giving_money_vid_9030.csv', 'labels_y/frame_Giving_money_vid_37980.csv', 'labels_y/frame_Giving_money_vid_16620.csv', 'labels_y/frame_Giving_money_vid_35970.csv', 'labels_y/frame_Giving_money_vid_23130.csv', 'labels_y/frame_Giving_money_vid_21480.csv', 'labels_y/frame_Giving_money_vid_16980.csv', 'labels_y/frame_Giving_money_vid_27360.csv', 'labels_y/frame_Giving_money_vid_25860.csv', 'labels_y/frame_Giving_money_vid_5490.csv', 'labels_y/frame_Giving_money_vid_2910.csv', 'labels_y/frame_Giving_money_vid_22020.csv', 'labels_y/frame_Giving_money_vid_20760.csv', 'labels_y/frame_Giving_money_vid_9060.csv', 'labels_y/frame_Giving_money_vid_24000.csv', 'labels_y/frame_Giving_money_vid_930.csv', 'labels_y/frame_Giving_money_vid_27060.csv', 'labels_y/frame_Giving_money_vid_4020.csv', 'labels_y/frame_Giving_money_vid_33030.csv', 'labels_y/frame_Giving_money_vid_1890.csv', 'labels_y/frame_Giving_money_vid_14550.csv', 'labels_y/frame_Giving_money_vid_23790.csv', 'labels_y/frame_Giving_money_vid_13470.csv', 'labels_y/frame_Giving_money_vid_9210.csv', 'labels_y/frame_Giving_money_vid_35430.csv', 'labels_y/frame_Giving_money_vid_19440.csv', 'labels_y/frame_Giving_money_vid_1860.csv', 'labels_y/frame_Giving_money_vid_16680.csv', 'labels_y/frame_Giving_money_vid_18480.csv', 'labels_y/frame_Giving_money_vid_9960.csv', 'labels_y/frame_Giving_money_vid_17760.csv', 'labels_y/frame_Giving_money_vid_10890.csv', 'labels_y/frame_Giving_money_vid_10800.csv', 'labels_y/frame_Giving_money_vid_11820.csv', 'labels_y/frame_Giving_money_vid_26910.csv', 'labels_y/frame_Giving_money_vid_13890.csv', 'labels_y/frame_Giving_money_vid_19020.csv', 'labels_y/frame_Giving_money_vid_2850.csv', 'labels_y/frame_Giving_money_vid_2070.csv', 'labels_y/frame_Giving_money_vid_16740.csv', 'labels_y/frame_Giving_money_vid_28470.csv', 'labels_y/frame_Giving_money_vid_1050.csv', 'labels_y/frame_Giving_money_vid_7440.csv', 'labels_y/frame_Giving_money_vid_11370.csv', 'labels_y/frame_Giving_money_vid_11460.csv', 'labels_y/frame_Giving_money_vid_16560.csv', 'labels_y/frame_Giving_money_vid_15330.csv', 'labels_y/frame_Giving_money_vid_38130.csv', 'labels_y/frame_Giving_money_vid_25260.csv', 'labels_y/frame_Giving_money_vid_23220.csv', 'labels_y/frame_Giving_money_vid_26700.csv', 'labels_y/frame_Giving_money_vid_5280.csv', 'labels_y/frame_Giving_money_vid_29490.csv', 'labels_y/frame_Giving_money_vid_27210.csv', 'labels_y/frame_Giving_money_vid_28680.csv', 'labels_y/frame_Giving_money_vid_6600.csv', 'labels_y/frame_Giving_money_vid_17400.csv', 'labels_y/frame_Giving_money_vid_24750.csv', 'labels_y/frame_Giving_money_vid_4650.csv', 'labels_y/frame_Giving_money_vid_26160.csv', 'labels_y/frame_Giving_money_vid_29550.csv', 'labels_y/frame_Giving_money_vid_12600.csv', 'labels_y/frame_Giving_money_vid_29580.csv', 'labels_y/frame_Giving_money_vid_17130.csv', 'labels_y/frame_Giving_money_vid_3510.csv', 'labels_y/frame_Giving_money_vid_31170.csv', 'labels_y/frame_Giving_money_vid_14670.csv', 'labels_y/frame_Giving_money_vid_16290.csv', 'labels_y/frame_Giving_money_vid_36060.csv', 'labels_y/frame_Giving_money_vid_5070.csv', 'labels_y/frame_Giving_money_vid_17910.csv', 'labels_y/frame_Giving_money_vid_13800.csv', 'labels_y/frame_Giving_money_vid_19560.csv', 'labels_y/frame_Giving_money_vid_17100.csv', 'labels_y/frame_Giving_money_vid_32040.csv', 'labels_y/frame_Giving_money_vid_1710.csv', 'labels_y/frame_Giving_money_vid_29310.csv', 'labels_y/frame_Giving_money_vid_10470.csv', 'labels_y/frame_Giving_money_vid_17370.csv', 'labels_y/frame_Giving_money_vid_6060.csv', 'labels_y/frame_Giving_money_vid_28020.csv', 'labels_y/frame_Giving_money_vid_37680.csv', 'labels_y/frame_Giving_money_vid_24420.csv', 'labels_y/frame_Giving_money_vid_22290.csv', 'labels_y/frame_Giving_money_vid_26370.csv', 'labels_y/frame_Giving_money_vid_2490.csv', 'labels_y/frame_Giving_money_vid_2430.csv', 'labels_y/frame_Giving_money_vid_13050.csv', 'labels_y/frame_Giving_money_vid_13620.csv', 'labels_y/frame_Giving_money_vid_17520.csv', 'labels_y/frame_Giving_money_vid_33570.csv', 'labels_y/frame_Giving_money_vid_27930.csv', 'labels_y/frame_Giving_money_vid_5970.csv', 'labels_y/frame_Giving_money_vid_1080.csv', 'labels_y/frame_Giving_money_vid_22980.csv', 'labels_y/frame_Giving_money_vid_34800.csv', 'labels_y/frame_Giving_money_vid_1140.csv', 'labels_y/frame_Giving_money_vid_36240.csv', 'labels_y/frame_Giving_money_vid_24870.csv', 'labels_y/frame_Giving_money_vid_4380.csv', 'labels_y/frame_Giving_money_vid_17310.csv', 'labels_y/frame_Giving_money_vid_6930.csv', 'labels_y/frame_Giving_money_vid_36210.csv', 'labels_y/frame_Giving_money_vid_2220.csv', 'labels_y/frame_Giving_money_vid_34920.csv', 'labels_y/frame_Giving_money_vid_25920.csv', 'labels_y/frame_Giving_money_vid_3480.csv', 'labels_y/frame_Giving_money_vid_21810.csv']\n",
      "(1000, 4)\n",
      "                                           0  1  2  3\n",
      "0    labels_y/frame_Giving_money_vid_900.csv  0  0  1\n",
      "1  labels_y/frame_Giving_money_vid_34110.csv  1  0  1\n",
      "2  labels_y/frame_Giving_money_vid_19260.csv  0  1  1\n",
      "3  labels_y/frame_Giving_money_vid_38070.csv  0  0  1\n",
      "4   labels_y/frame_Giving_money_vid_9360.csv  1  1  0\n",
      "   1  2  3\n",
      "0  0  0  1\n",
      "1  1  0  1\n",
      "2  0  1  1\n",
      "3  0  0  1\n",
      "4  1  1  0\n",
      "(1000, 3)\n"
     ]
    }
   ],
   "source": [
    "# Get the y data\n",
    "buf_y = (\n",
    "    boto3.client(\"s3\")\n",
    "    .get_object(\n",
    "        Bucket=bucket, Key=\"labels_y.zip\"\n",
    "    )[\"Body\"].read()\n",
    ")\n",
    "with ZipFile(BytesIO(buf_y)) as zipf:\n",
    "    files = zipf.namelist()\n",
    "    # delete parent folder in list\n",
    "    del files[0]\n",
    "    print(files)\n",
    "    y_full = pd.DataFrame(\n",
    "        np.column_stack(\n",
    "            [\n",
    "                files,\n",
    "                pd.concat(\n",
    "                    (\n",
    "                        pd.read_csv(zipf.open(f), sep=\",\", header=None)\n",
    "                        for f in files\n",
    "                    )\n",
    "                ).values.tolist(),\n",
    "            ]\n",
    "        )\n",
    "    )\n",
    "print(y_full.shape)\n",
    "print(y_full.head())\n",
    "y = remove_first_col(y_full)\n",
    "print(y.head())\n",
    "print(y.shape)"
   ]
  },
  {
   "cell_type": "code",
   "execution_count": 10,
   "metadata": {},
   "outputs": [],
   "source": [
    "# split test and train\n",
    "x_train, x_test, y_train, y_test = train_test_split(\n",
    "    x,\n",
    "    y,\n",
    "    test_size=test_split,\n",
    "    random_state=random_state,\n",
    "    shuffle=True,\n",
    "    stratify=y,\n",
    ")"
   ]
  },
  {
   "cell_type": "code",
   "execution_count": 11,
   "metadata": {},
   "outputs": [],
   "source": [
    "y_test = y_test\n",
    "d_train = xgb.DMatrix(x_train, y_train)\n",
    "d_test = xgb.DMatrix(x_test, y_test)\n",
    "d_test_feature = xgb.DMatrix(x_test)"
   ]
  },
  {
   "cell_type": "code",
   "execution_count": 12,
   "metadata": {},
   "outputs": [
    {
     "name": "stdout",
     "output_type": "stream",
     "text": [
      "loading data end, start to boost trees\n",
      "[23:10:35] WARNING: ../src/learner.cc:767: \n",
      "Parameters: { \"n_estimators\", \"silent\" } are not used.\n",
      "\n",
      "[0]\ttrain-mphe:0.10742\ttests-mphe:0.11169\n",
      "[100]\ttrain-mphe:0.07440\ttests-mphe:0.13583\n",
      "[200]\ttrain-mphe:0.06852\ttests-mphe:0.14530\n",
      "[300]\ttrain-mphe:0.06511\ttests-mphe:0.14836\n",
      "[400]\ttrain-mphe:0.06295\ttests-mphe:0.15110\n",
      "[500]\ttrain-mphe:0.06175\ttests-mphe:0.15214\n",
      "[600]\ttrain-mphe:0.06093\ttests-mphe:0.15173\n",
      "[700]\ttrain-mphe:0.05998\ttests-mphe:0.15215\n",
      "[800]\ttrain-mphe:0.05887\ttests-mphe:0.15229\n",
      "[900]\ttrain-mphe:0.05737\ttests-mphe:0.15495\n",
      "[999]\ttrain-mphe:0.05628\ttests-mphe:0.15397\n"
     ]
    }
   ],
   "source": [
    "num_round = number_of_trees\n",
    "watchlist = [\n",
    "    (d_train, \"train\"),\n",
    "    (d_test, \"tests\"),\n",
    "]\n",
    "print(\"loading data end, start to boost trees\")\n",
    "boosted_tree = xgb.train(\n",
    "        best_param,\n",
    "        d_train,\n",
    "        num_round,\n",
    "        #obj=pseudo_huber_loss,\n",
    "        #custom_metric=pseudo_huber_loss_eval,\n",
    "        evals=watchlist,\n",
    "        verbose_eval=100,\n",
    "    )\n",
    "model = boosted_tree"
   ]
  },
  {
   "cell_type": "code",
   "execution_count": 13,
   "metadata": {},
   "outputs": [
    {
     "name": "stdout",
     "output_type": "stream",
     "text": [
      "Hamming loss is: 257\n",
      "     1  2  3\n",
      "390  1  1  1\n",
      "188  0  1  1\n",
      "618  0  0  1\n",
      "753  1  0  1\n",
      "490  1  1  1\n",
      "..  .. .. ..\n",
      "184  1  1  1\n",
      "498  1  0  1\n",
      "123  0  1  1\n",
      "3    0  0  1\n",
      "191  0  0  1\n",
      "\n",
      "[200 rows x 3 columns] [[1 1 1]\n",
      " [1 0 0]\n",
      " [0 0 1]\n",
      " [1 0 1]\n",
      " [0 1 1]\n",
      " [1 1 0]\n",
      " [1 1 1]\n",
      " [1 0 1]\n",
      " [1 1 1]\n",
      " [0 1 1]\n",
      " [1 1 1]\n",
      " [1 1 1]\n",
      " [1 0 1]\n",
      " [0 0 1]\n",
      " [1 0 1]\n",
      " [0 0 1]\n",
      " [0 1 1]\n",
      " [1 1 1]\n",
      " [0 1 1]\n",
      " [1 1 1]\n",
      " [0 0 1]\n",
      " [0 0 1]\n",
      " [0 1 1]\n",
      " [1 0 1]\n",
      " [1 0 1]\n",
      " [1 0 1]\n",
      " [0 1 1]\n",
      " [1 0 0]\n",
      " [1 1 0]\n",
      " [0 0 1]\n",
      " [1 1 0]\n",
      " [0 1 1]\n",
      " [1 1 0]\n",
      " [1 0 1]\n",
      " [0 1 1]\n",
      " [1 1 0]\n",
      " [0 0 1]\n",
      " [0 1 1]\n",
      " [1 1 1]\n",
      " [0 0 1]\n",
      " [0 0 1]\n",
      " [1 0 1]\n",
      " [0 1 0]\n",
      " [0 1 1]\n",
      " [1 1 1]\n",
      " [0 0 1]\n",
      " [1 1 0]\n",
      " [1 0 1]\n",
      " [1 1 1]\n",
      " [0 0 1]\n",
      " [0 0 1]\n",
      " [1 1 1]\n",
      " [0 1 0]\n",
      " [0 1 1]\n",
      " [0 0 0]\n",
      " [0 0 1]\n",
      " [0 0 1]\n",
      " [1 1 1]\n",
      " [0 0 1]\n",
      " [0 0 1]\n",
      " [0 1 1]\n",
      " [1 1 0]\n",
      " [1 1 1]\n",
      " [1 0 1]\n",
      " [0 1 1]\n",
      " [1 0 0]\n",
      " [1 1 1]\n",
      " [0 0 0]\n",
      " [0 1 1]\n",
      " [0 1 1]\n",
      " [1 1 1]\n",
      " [1 1 1]\n",
      " [1 1 1]\n",
      " [0 0 1]\n",
      " [1 1 1]\n",
      " [1 1 1]\n",
      " [1 0 0]\n",
      " [0 1 0]\n",
      " [1 0 1]\n",
      " [1 0 1]\n",
      " [1 1 1]\n",
      " [1 1 1]\n",
      " [0 0 1]\n",
      " [0 1 1]\n",
      " [1 0 1]\n",
      " [0 0 1]\n",
      " [1 1 1]\n",
      " [1 1 0]\n",
      " [0 1 1]\n",
      " [1 1 1]\n",
      " [0 0 1]\n",
      " [1 1 1]\n",
      " [0 1 1]\n",
      " [1 0 1]\n",
      " [1 1 1]\n",
      " [1 1 1]\n",
      " [1 0 1]\n",
      " [0 1 1]\n",
      " [0 1 1]\n",
      " [1 0 1]\n",
      " [0 1 1]\n",
      " [0 0 1]\n",
      " [1 0 1]\n",
      " [0 0 1]\n",
      " [0 1 1]\n",
      " [1 0 0]\n",
      " [1 1 1]\n",
      " [0 1 1]\n",
      " [0 0 1]\n",
      " [1 0 1]\n",
      " [0 0 1]\n",
      " [0 0 1]\n",
      " [0 0 1]\n",
      " [1 1 1]\n",
      " [1 1 0]\n",
      " [1 1 1]\n",
      " [1 1 0]\n",
      " [0 0 1]\n",
      " [0 0 1]\n",
      " [0 1 1]\n",
      " [1 1 0]\n",
      " [1 1 1]\n",
      " [1 0 1]\n",
      " [0 0 1]\n",
      " [1 1 1]\n",
      " [1 0 1]\n",
      " [0 1 1]\n",
      " [1 1 1]\n",
      " [1 0 1]\n",
      " [0 0 0]\n",
      " [1 1 1]\n",
      " [1 0 1]\n",
      " [0 0 1]\n",
      " [1 1 1]\n",
      " [1 1 1]\n",
      " [0 1 0]\n",
      " [1 0 1]\n",
      " [0 0 1]\n",
      " [0 1 1]\n",
      " [1 0 1]\n",
      " [1 0 1]\n",
      " [0 0 1]\n",
      " [0 0 1]\n",
      " [1 0 1]\n",
      " [0 0 1]\n",
      " [1 1 0]\n",
      " [1 1 1]\n",
      " [0 0 1]\n",
      " [0 1 0]\n",
      " [0 1 0]\n",
      " [0 0 1]\n",
      " [0 1 1]\n",
      " [1 1 1]\n",
      " [0 1 1]\n",
      " [0 0 1]\n",
      " [0 0 1]\n",
      " [0 1 1]\n",
      " [0 0 1]\n",
      " [1 1 0]\n",
      " [0 0 1]\n",
      " [0 0 1]\n",
      " [1 0 1]\n",
      " [0 0 0]\n",
      " [1 1 1]\n",
      " [0 0 1]\n",
      " [0 1 1]\n",
      " [1 0 0]\n",
      " [1 0 1]\n",
      " [0 1 0]\n",
      " [0 1 1]\n",
      " [0 0 1]\n",
      " [0 1 1]\n",
      " [0 0 1]\n",
      " [0 1 1]\n",
      " [1 1 0]\n",
      " [0 0 1]\n",
      " [1 1 1]\n",
      " [0 1 0]\n",
      " [1 0 1]\n",
      " [0 1 1]\n",
      " [0 1 0]\n",
      " [0 0 0]\n",
      " [1 0 1]\n",
      " [1 1 0]\n",
      " [1 1 1]\n",
      " [1 0 0]\n",
      " [1 1 0]\n",
      " [0 0 0]\n",
      " [0 0 0]\n",
      " [0 0 1]\n",
      " [1 1 0]\n",
      " [1 0 1]\n",
      " [0 0 1]\n",
      " [1 1 1]\n",
      " [1 0 1]\n",
      " [0 1 1]\n",
      " [1 0 1]\n",
      " [1 0 1]\n",
      " [1 1 1]\n",
      " [1 1 1]]\n"
     ]
    }
   ],
   "source": [
    "y_pred = (model.predict(d_test_feature, strict_shape=True) > 0.5).astype(int)\n",
    "print(\"Hamming loss is:\", loss(y_test, y_pred))\n",
    "print(y_test,y_pred)"
   ]
  },
  {
   "cell_type": "code",
   "execution_count": 14,
   "metadata": {},
   "outputs": [],
   "source": [
    "model.save_model(model_file_name)"
   ]
  },
  {
   "cell_type": "code",
   "execution_count": 15,
   "metadata": {},
   "outputs": [
    {
     "name": "stdout",
     "output_type": "stream",
     "text": [
      "local-xgboost-model\n"
     ]
    }
   ],
   "source": [
    "!tar czvf model.tar.gz $model_file_name"
   ]
  },
  {
   "cell_type": "code",
   "execution_count": 16,
   "metadata": {},
   "outputs": [],
   "source": [
    "prefix = \"sagemaker/DEMO-xgboost\"\n",
    "fObj = open(\"model.tar.gz\", \"rb\")\n",
    "key = os.path.join(prefix, model_file_name, \"model.tar.gz\")\n",
    "boto3.Session().resource(\"s3\").Bucket(bucket).Object(key).upload_fileobj(fObj)"
   ]
  },
  {
   "cell_type": "code",
   "execution_count": 17,
   "metadata": {},
   "outputs": [],
   "source": [
    "from sagemaker import image_uris\n",
    "\n",
    "container = image_uris.retrieve(\"xgboost\",boto3.Session().region_name, \"0.90-2\")"
   ]
  },
  {
   "cell_type": "code",
   "execution_count": 19,
   "metadata": {},
   "outputs": [
    {
     "name": "stdout",
     "output_type": "stream",
     "text": [
      "https://s3-eu-central-1.amazonaws.com/sagemaker-eu-central-1-444133344330/sagemaker/DEMO-xgboost/local-xgboost-model/model.tar.gz\n",
      "arn:aws:iam::444133344330:role/service-role/SageMaker-MLops\n",
      "CPU times: user 33 ms, sys: 0 ns, total: 33 ms\n",
      "Wall time: 694 ms\n"
     ]
    }
   ],
   "source": [
    "%%time\n",
    "from time import gmtime, strftime\n",
    "\n",
    "model_name = model_file_name + strftime(\"%Y-%m-%d-%H-%M-%S\", gmtime())\n",
    "model_url = \"https://s3-{}.amazonaws.com/{}/{}\".format(region, bucket, key)\n",
    "sm_client = boto3.client(\"sagemaker\")\n",
    "\n",
    "print(model_url)\n",
    "\n",
    "primary_container = {\n",
    "    \"Image\": container,\n",
    "    \"ModelDataUrl\": model_url,\n",
    "}\n",
    "print(role)\n",
    "create_model_response2 = sm_client.create_model(\n",
    "    ModelName=model_name, ExecutionRoleArn=role, PrimaryContainer=primary_container\n",
    ")\n",
    "\n",
    "#print(create_model_response2[\"ModelArn\"])\n"
   ]
  },
  {
   "cell_type": "code",
   "execution_count": 20,
   "metadata": {},
   "outputs": [
    {
     "name": "stdout",
     "output_type": "stream",
     "text": [
      "DEMO-XGBoostEndpointConfig-2023-06-08-21-11-36\n",
      "Endpoint Config Arn: arn:aws:sagemaker:eu-central-1:444133344330:endpoint-config/demo-xgboostendpointconfig-2023-06-08-21-11-36\n"
     ]
    }
   ],
   "source": [
    "from time import gmtime, strftime\n",
    "\n",
    "endpoint_config_name = \"DEMO-XGBoostEndpointConfig-\" + strftime(\"%Y-%m-%d-%H-%M-%S\", gmtime())\n",
    "print(endpoint_config_name)\n",
    "create_endpoint_config_response = sm_client.create_endpoint_config(\n",
    "    EndpointConfigName=endpoint_config_name,\n",
    "    ProductionVariants=[\n",
    "        {\n",
    "            \"InstanceType\": \"ml.m4.xlarge\",\n",
    "            \"InitialInstanceCount\": 1,\n",
    "            \"InitialVariantWeight\": 1,\n",
    "            \"ModelName\": model_name,\n",
    "            \"VariantName\": \"AllTraffic\",\n",
    "        }\n",
    "    ],\n",
    ")\n",
    "\n",
    "print(\"Endpoint Config Arn: \" + create_endpoint_config_response[\"EndpointConfigArn\"])"
   ]
  },
  {
   "cell_type": "code",
   "execution_count": 21,
   "metadata": {},
   "outputs": [
    {
     "name": "stdout",
     "output_type": "stream",
     "text": [
      "DEMO-XGBoostEndpoint-2023-06-08-21-16-59\n",
      "arn:aws:sagemaker:eu-central-1:444133344330:endpoint/demo-xgboostendpoint-2023-06-08-21-16-59\n",
      "Status: Creating\n",
      "Status: Creating\n",
      "Status: Creating\n",
      "Status: InService\n",
      "Arn: arn:aws:sagemaker:eu-central-1:444133344330:endpoint/demo-xgboostendpoint-2023-06-08-21-16-59\n",
      "Status: InService\n",
      "CPU times: user 86.5 ms, sys: 12 ms, total: 98.6 ms\n",
      "Wall time: 3min 1s\n"
     ]
    }
   ],
   "source": [
    "%%time\n",
    "import time\n",
    "\n",
    "endpoint_name = \"DEMO-XGBoostEndpoint-\" + strftime(\"%Y-%m-%d-%H-%M-%S\", gmtime())\n",
    "print(endpoint_name)\n",
    "create_endpoint_response = sm_client.create_endpoint(\n",
    "    EndpointName=endpoint_name, EndpointConfigName=endpoint_config_name\n",
    ")\n",
    "print(create_endpoint_response[\"EndpointArn\"])\n",
    "\n",
    "resp = sm_client.describe_endpoint(EndpointName=endpoint_name)\n",
    "status = resp[\"EndpointStatus\"]\n",
    "print(\"Status: \" + status)\n",
    "\n",
    "while status == \"Creating\":\n",
    "    time.sleep(60)\n",
    "    resp = sm_client.describe_endpoint(EndpointName=endpoint_name)\n",
    "    status = resp[\"EndpointStatus\"]\n",
    "    print(\"Status: \" + status)\n",
    "\n",
    "print(\"Arn: \" + resp[\"EndpointArn\"])\n",
    "print(\"Status: \" + status)"
   ]
  },
  {
   "cell_type": "code",
   "execution_count": 22,
   "metadata": {},
   "outputs": [],
   "source": [
    "runtime_client = boto3.client(\"runtime.sagemaker\")"
   ]
  },
  {
   "cell_type": "code",
   "execution_count": 39,
   "metadata": {},
   "outputs": [
    {
     "ename": "ModelError",
     "evalue": "An error occurred (ModelError) when calling the InvokeEndpoint operation: Received server error (500) from primary and could not load the entire response body. See https://eu-central-1.console.aws.amazon.com/cloudwatch/home?region=eu-central-1#logEventViewer:group=/aws/sagemaker/Endpoints/DEMO-XGBoostEndpoint-2023-06-08-21-16-59 in account 444133344330 for more information.",
     "output_type": "error",
     "traceback": [
      "\u001b[0;31m---------------------------------------------------------------------------\u001b[0m",
      "\u001b[0;31mModelError\u001b[0m                                Traceback (most recent call last)",
      "Cell \u001b[0;32mIn[39], line 11\u001b[0m\n\u001b[1;32m      7\u001b[0m \u001b[39mwith\u001b[39;00m \u001b[39mopen\u001b[39m(file_name, \u001b[39m\"\u001b[39m\u001b[39mr\u001b[39m\u001b[39m\"\u001b[39m) \u001b[39mas\u001b[39;00m f:\n\u001b[1;32m      8\u001b[0m     payload \u001b[39m=\u001b[39m f\u001b[39m.\u001b[39mread()\u001b[39m.\u001b[39mstrip()\n\u001b[0;32m---> 11\u001b[0m response \u001b[39m=\u001b[39m runtime_client\u001b[39m.\u001b[39;49minvoke_endpoint(\n\u001b[1;32m     12\u001b[0m     EndpointName\u001b[39m=\u001b[39;49m\u001b[39m'\u001b[39;49m\u001b[39mDEMO-XGBoostEndpoint-2023-06-08-21-16-59\u001b[39;49m\u001b[39m'\u001b[39;49m, ContentType\u001b[39m=\u001b[39;49m\u001b[39m\"\u001b[39;49m\u001b[39mtext/csv\u001b[39;49m\u001b[39m\"\u001b[39;49m, Body\u001b[39m=\u001b[39;49mpayload\n\u001b[1;32m     13\u001b[0m )\n\u001b[1;32m     14\u001b[0m result \u001b[39m=\u001b[39m response[\u001b[39m\"\u001b[39m\u001b[39mBody\u001b[39m\u001b[39m\"\u001b[39m]\u001b[39m.\u001b[39mread()\u001b[39m.\u001b[39mdecode(\u001b[39m\"\u001b[39m\u001b[39mascii\u001b[39m\u001b[39m\"\u001b[39m)\n\u001b[1;32m     15\u001b[0m \u001b[39mprint\u001b[39m(\u001b[39m\"\u001b[39m\u001b[39mPredicted Class Probabilities: \u001b[39m\u001b[39m{}\u001b[39;00m\u001b[39m.\u001b[39m\u001b[39m\"\u001b[39m\u001b[39m.\u001b[39mformat(result))\n",
      "File \u001b[0;32m/media/Data_linux/anaconda3/envs/dl/lib/python3.10/site-packages/botocore/client.py:530\u001b[0m, in \u001b[0;36mClientCreator._create_api_method.<locals>._api_call\u001b[0;34m(self, *args, **kwargs)\u001b[0m\n\u001b[1;32m    526\u001b[0m     \u001b[39mraise\u001b[39;00m \u001b[39mTypeError\u001b[39;00m(\n\u001b[1;32m    527\u001b[0m         \u001b[39mf\u001b[39m\u001b[39m\"\u001b[39m\u001b[39m{\u001b[39;00mpy_operation_name\u001b[39m}\u001b[39;00m\u001b[39m() only accepts keyword arguments.\u001b[39m\u001b[39m\"\u001b[39m\n\u001b[1;32m    528\u001b[0m     )\n\u001b[1;32m    529\u001b[0m \u001b[39m# The \"self\" in this scope is referring to the BaseClient.\u001b[39;00m\n\u001b[0;32m--> 530\u001b[0m \u001b[39mreturn\u001b[39;00m \u001b[39mself\u001b[39;49m\u001b[39m.\u001b[39;49m_make_api_call(operation_name, kwargs)\n",
      "File \u001b[0;32m/media/Data_linux/anaconda3/envs/dl/lib/python3.10/site-packages/botocore/client.py:964\u001b[0m, in \u001b[0;36mBaseClient._make_api_call\u001b[0;34m(self, operation_name, api_params)\u001b[0m\n\u001b[1;32m    962\u001b[0m     error_code \u001b[39m=\u001b[39m parsed_response\u001b[39m.\u001b[39mget(\u001b[39m\"\u001b[39m\u001b[39mError\u001b[39m\u001b[39m\"\u001b[39m, {})\u001b[39m.\u001b[39mget(\u001b[39m\"\u001b[39m\u001b[39mCode\u001b[39m\u001b[39m\"\u001b[39m)\n\u001b[1;32m    963\u001b[0m     error_class \u001b[39m=\u001b[39m \u001b[39mself\u001b[39m\u001b[39m.\u001b[39mexceptions\u001b[39m.\u001b[39mfrom_code(error_code)\n\u001b[0;32m--> 964\u001b[0m     \u001b[39mraise\u001b[39;00m error_class(parsed_response, operation_name)\n\u001b[1;32m    965\u001b[0m \u001b[39melse\u001b[39;00m:\n\u001b[1;32m    966\u001b[0m     \u001b[39mreturn\u001b[39;00m parsed_response\n",
      "\u001b[0;31mModelError\u001b[0m: An error occurred (ModelError) when calling the InvokeEndpoint operation: Received server error (500) from primary and could not load the entire response body. See https://eu-central-1.console.aws.amazon.com/cloudwatch/home?region=eu-central-1#logEventViewer:group=/aws/sagemaker/Endpoints/DEMO-XGBoostEndpoint-2023-06-08-21-16-59 in account 444133344330 for more information."
     ]
    }
   ],
   "source": [
    "import json\n",
    "\n",
    "file_name = (\n",
    "    \"test.csv\"  # customize to your test file, will be 'mnist.single.test' if use data above\n",
    ")\n",
    "\n",
    "with open(file_name, \"r\") as f:\n",
    "    payload = f.read().strip()\n",
    "\n",
    "\n",
    "response = runtime_client.invoke_endpoint(\n",
    "    EndpointName='DEMO-XGBoostEndpoint-2023-06-08-21-16-59', ContentType=\"text/csv\", Body=payload\n",
    ")\n",
    "result = response[\"Body\"].read().decode(\"ascii\")\n",
    "print(\"Predicted Class Probabilities: {}.\".format(result))"
   ]
  }
 ],
 "metadata": {
  "kernelspec": {
   "display_name": "dl",
   "language": "python",
   "name": "python3"
  },
  "language_info": {
   "codemirror_mode": {
    "name": "ipython",
    "version": 3
   },
   "file_extension": ".py",
   "mimetype": "text/x-python",
   "name": "python",
   "nbconvert_exporter": "python",
   "pygments_lexer": "ipython3",
   "version": "3.10.8"
  },
  "orig_nbformat": 4
 },
 "nbformat": 4,
 "nbformat_minor": 2
}
